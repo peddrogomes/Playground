{
 "cells": [
  {
   "cell_type": "markdown",
   "id": "9b569010",
   "metadata": {},
   "source": [
    "# Fazendo um percepton de uma camada usando lowlevel api:"
   ]
  },
  {
   "cell_type": "markdown",
   "id": "7782f0cc",
   "metadata": {},
   "source": [
    "### Utilizaremos a tabela verdade de um AND:"
   ]
  },
  {
   "cell_type": "code",
   "execution_count": 2,
   "id": "e6c35310",
   "metadata": {},
   "outputs": [],
   "source": [
    "import numpy as np"
   ]
  },
  {
   "cell_type": "code",
   "execution_count": 2,
   "id": "a07902de",
   "metadata": {},
   "outputs": [
    {
     "data": {
      "text/plain": [
       "array([[0., 0.],\n",
       "       [0., 1.],\n",
       "       [1., 0.],\n",
       "       [1., 1.]])"
      ]
     },
     "execution_count": 2,
     "metadata": {},
     "output_type": "execute_result"
    }
   ],
   "source": [
    "X = np.array([[0.0, 0.0],\n",
    "              [0.0, 1.0],\n",
    "              [1.0, 0.0],\n",
    "              [1.0, 1.0]])\n",
    "X"
   ]
  },
  {
   "cell_type": "code",
   "execution_count": 3,
   "id": "1229c150",
   "metadata": {},
   "outputs": [
    {
     "data": {
      "text/plain": [
       "array([[0.],\n",
       "       [0.],\n",
       "       [0.],\n",
       "       [1.]])"
      ]
     },
     "execution_count": 3,
     "metadata": {},
     "output_type": "execute_result"
    }
   ],
   "source": [
    "y = np.array([[0.0], [0.0], [0.0], [1.0]])\n",
    "y"
   ]
  },
  {
   "cell_type": "code",
   "execution_count": 4,
   "id": "612a7566",
   "metadata": {},
   "outputs": [
    {
     "data": {
      "text/plain": [
       "array([[0.],\n",
       "       [0.]])"
      ]
     },
     "execution_count": 4,
     "metadata": {},
     "output_type": "execute_result"
    }
   ],
   "source": [
    "W= np.array([[0.0],[0.0]])\n",
    "W"
   ]
  },
  {
   "cell_type": "code",
   "execution_count": 5,
   "id": "8fc9dbec",
   "metadata": {},
   "outputs": [],
   "source": [
    "def step(x):\n",
    "    return float(x>=1)"
   ]
  },
  {
   "cell_type": "code",
   "execution_count": 6,
   "id": "ba7eecd1",
   "metadata": {},
   "outputs": [
    {
     "data": {
      "text/plain": [
       "array([[0.],\n",
       "       [0.],\n",
       "       [0.],\n",
       "       [0.]])"
      ]
     },
     "execution_count": 6,
     "metadata": {},
     "output_type": "execute_result"
    }
   ],
   "source": [
    "camada_saida=np.matmul(X,W)\n",
    "camada_saida"
   ]
  },
  {
   "cell_type": "code",
   "execution_count": 7,
   "id": "55a3400e",
   "metadata": {},
   "outputs": [
    {
     "data": {
      "text/plain": [
       "array([[0.],\n",
       "       [0.],\n",
       "       [0.],\n",
       "       [0.]])"
      ]
     },
     "execution_count": 7,
     "metadata": {},
     "output_type": "execute_result"
    }
   ],
   "source": [
    "camada_de_saida_ativacao=np.array(list(map(step,camada_saida)))\n",
    "\n",
    "camada_de_saida_ativacao=np.array([camada_de_saida_ativacao]).T  #transpondo o vetor linha para coluna\n",
    "\n",
    "camada_de_saida_ativacao"
   ]
  },
  {
   "cell_type": "code",
   "execution_count": 8,
   "id": "b98cf72f",
   "metadata": {},
   "outputs": [
    {
     "data": {
      "text/plain": [
       "array([[0.],\n",
       "       [0.],\n",
       "       [0.],\n",
       "       [1.]])"
      ]
     },
     "execution_count": 8,
     "metadata": {},
     "output_type": "execute_result"
    }
   ],
   "source": [
    "erro = y-camada_de_saida_ativacao\n",
    "erro"
   ]
  },
  {
   "cell_type": "code",
   "execution_count": 9,
   "id": "c82652fa",
   "metadata": {},
   "outputs": [
    {
     "data": {
      "text/plain": [
       "array([[1.],\n",
       "       [1.]])"
      ]
     },
     "execution_count": 9,
     "metadata": {},
     "output_type": "execute_result"
    }
   ],
   "source": [
    "delta = np.matmul(X.T,erro)\n",
    "delta"
   ]
  },
  {
   "cell_type": "code",
   "execution_count": 10,
   "id": "51d4e23b",
   "metadata": {},
   "outputs": [
    {
     "data": {
      "text/plain": [
       "array([[0.1],\n",
       "       [0.1]])"
      ]
     },
     "execution_count": 10,
     "metadata": {},
     "output_type": "execute_result"
    }
   ],
   "source": [
    "W=W+(0.1*delta)\n",
    "W"
   ]
  },
  {
   "cell_type": "code",
   "execution_count": 11,
   "id": "934c8094",
   "metadata": {},
   "outputs": [
    {
     "data": {
      "text/plain": [
       "1.0"
      ]
     },
     "execution_count": 11,
     "metadata": {},
     "output_type": "execute_result"
    }
   ],
   "source": [
    "erro_soma = np.sum(erro)\n",
    "erro_soma"
   ]
  },
  {
   "cell_type": "markdown",
   "id": "5ddcb36d",
   "metadata": {},
   "source": [
    "Fazendo a recorrencia do modelo:"
   ]
  },
  {
   "cell_type": "code",
   "execution_count": 12,
   "id": "b33e7101",
   "metadata": {},
   "outputs": [],
   "source": [
    "del erro_soma, delta, camada_saida, erro, camada_de_saida_ativacao \n",
    "#limpando as variaveis\n",
    "#rode as 3 celulas iniciais setando X, Y e W, antes de rodar a celula abaixo"
   ]
  },
  {
   "cell_type": "code",
   "execution_count": 13,
   "id": "7b19f024",
   "metadata": {},
   "outputs": [
    {
     "name": "stdout",
     "output_type": "stream",
     "text": [
      "Época: 1  Erro:  1.0\n",
      "Época: 2  Erro:  1.0\n",
      "Época: 3  Erro:  1.0\n",
      "Época: 4  Erro:  1.0\n",
      "Época: 5  Erro:  0.0\n"
     ]
    }
   ],
   "source": [
    "epoca = 0\n",
    "for i in range(20):\n",
    "    epoca += 1\n",
    "    \n",
    "    camada_saida=np.matmul(X,W)\n",
    "    \n",
    "    camada_de_saida_ativacao=np.array(list(map(step,camada_saida)))\n",
    "    camada_de_saida_ativacao=np.array([camada_de_saida_ativacao]).T  #transpondo o vetor linha para coluna\n",
    "    \n",
    "    erro = y-camada_de_saida_ativacao\n",
    "    erro_soma = np.sum(erro)\n",
    "\n",
    "    delta = np.matmul(X.T,erro)\n",
    "    \n",
    "    W=W+(0.1*delta)\n",
    "        \n",
    "    print('Época:', epoca, ' Erro: ', erro_soma)\n",
    "    if erro_soma == 0.0:\n",
    "        break"
   ]
  },
  {
   "cell_type": "markdown",
   "id": "d34f98a0",
   "metadata": {},
   "source": [
    "# Fazendo um percepton com camada oculta: (lowlevel)"
   ]
  },
  {
   "cell_type": "markdown",
   "id": "d8240460",
   "metadata": {},
   "source": [
    "### Utilizaremos a tabela verdade da XOR:\n",
    "Esse é um tipico problema linearmente não separavel"
   ]
  },
  {
   "cell_type": "code",
   "execution_count": 237,
   "id": "c5533a7d",
   "metadata": {},
   "outputs": [],
   "source": [
    "import random\n",
    "from sklearn.metrics import mean_squared_error\n",
    "\n"
   ]
  },
  {
   "cell_type": "code",
   "execution_count": 3,
   "id": "b02cc1b7",
   "metadata": {},
   "outputs": [
    {
     "data": {
      "text/plain": [
       "array([[0., 0.],\n",
       "       [0., 1.],\n",
       "       [1., 0.],\n",
       "       [1., 1.]])"
      ]
     },
     "execution_count": 3,
     "metadata": {},
     "output_type": "execute_result"
    }
   ],
   "source": [
    "X = np.array([[0.0, 0.0],\n",
    "              [0.0, 1.0],\n",
    "              [1.0, 0.0],\n",
    "              [1.0, 1.0]])\n",
    "X"
   ]
  },
  {
   "cell_type": "code",
   "execution_count": 6,
   "id": "f2d737bf",
   "metadata": {},
   "outputs": [
    {
     "data": {
      "text/plain": [
       "array([[1.],\n",
       "       [0.],\n",
       "       [0.],\n",
       "       [1.]])"
      ]
     },
     "execution_count": 6,
     "metadata": {},
     "output_type": "execute_result"
    }
   ],
   "source": [
    "y = np.array([[1.0], [0.0], [0.0], [1.0]])\n",
    "y"
   ]
  },
  {
   "cell_type": "code",
   "execution_count": 7,
   "id": "1454bfe3",
   "metadata": {},
   "outputs": [],
   "source": [
    "neuronios_entrada = 2\n",
    "neuronios_oculta = 3\n",
    "neuronios_saida = 1"
   ]
  },
  {
   "cell_type": "code",
   "execution_count": 184,
   "id": "96f2ba37",
   "metadata": {},
   "outputs": [
    {
     "data": {
      "text/plain": [
       "0.7787907538237661"
      ]
     },
     "execution_count": 184,
     "metadata": {},
     "output_type": "execute_result"
    }
   ],
   "source": [
    "random.uniform(0,1)"
   ]
  },
  {
   "cell_type": "code",
   "execution_count": 211,
   "id": "2f340473",
   "metadata": {},
   "outputs": [],
   "source": [
    "def cria_matriz_random(linha, coluna):\n",
    "    lista_aux=[]\n",
    "    for i in range(linha):\n",
    "        for j in range(coluna):\n",
    "            lista_aux.append(random.uniform(0,1))\n",
    "\n",
    "    lista_aux=np.asarray(lista_aux)\n",
    "    return lista_aux.reshape(linha, coluna)"
   ]
  },
  {
   "cell_type": "markdown",
   "id": "c2dbe934",
   "metadata": {},
   "source": [
    "Criei a funçao acima para facilitar na implementação dos dicionarios."
   ]
  },
  {
   "cell_type": "code",
   "execution_count": 217,
   "id": "2bc4d4e9",
   "metadata": {},
   "outputs": [],
   "source": [
    "W = {'oculta': cria_matriz_random(neuronios_entrada,neuronios_oculta), \n",
    "     'saida': cria_matriz_random(neuronios_oculta,neuronios_saida)}\n",
    "#basicamente esse é o dicionario com os pesos da rede"
   ]
  },
  {
   "cell_type": "code",
   "execution_count": 220,
   "id": "cb7e545a",
   "metadata": {},
   "outputs": [
    {
     "data": {
      "text/plain": [
       "{'oculta': array([[0.43621627, 0.55054243, 0.84610644],\n",
       "        [0.6839903 , 0.71208261, 0.38987006]]),\n",
       " 'saida': array([[0.79248923],\n",
       "        [0.94776903],\n",
       "        [0.19656671]])}"
      ]
     },
     "execution_count": 220,
     "metadata": {},
     "output_type": "execute_result"
    }
   ],
   "source": [
    "W"
   ]
  },
  {
   "cell_type": "code",
   "execution_count": 221,
   "id": "837aabc8",
   "metadata": {},
   "outputs": [],
   "source": [
    "b= {'oculta': cria_matriz_random(1,neuronios_oculta),\n",
    "    'saida': cria_matriz_random(1,neuronios_saida)}\n",
    "#basicamente esse é o dicionario com os pesos das Bias"
   ]
  },
  {
   "cell_type": "code",
   "execution_count": 222,
   "id": "16349587",
   "metadata": {},
   "outputs": [
    {
     "data": {
      "text/plain": [
       "{'oculta': array([[0.5429602 , 0.56044099, 0.08585243]]),\n",
       " 'saida': array([[0.58575899]])}"
      ]
     },
     "execution_count": 222,
     "metadata": {},
     "output_type": "execute_result"
    }
   ],
   "source": [
    "b"
   ]
  },
  {
   "cell_type": "markdown",
   "id": "66caf115",
   "metadata": {},
   "source": [
    "Iremos utilizar a função sigmoide para ativação do neuronio."
   ]
  },
  {
   "cell_type": "code",
   "execution_count": 230,
   "id": "1cd3e3f6",
   "metadata": {},
   "outputs": [],
   "source": [
    "def sigmoid(x):\n",
    "    return 1 / (1 + np.exp(-x))"
   ]
  },
  {
   "cell_type": "code",
   "execution_count": 254,
   "id": "e1a67433",
   "metadata": {},
   "outputs": [],
   "source": [
    "#estamos calculando a saida através da entrada passando pelos pesos e ativaçao\n",
    "taxa_aprendizagem=0.2\n",
    "\n",
    "for i in range(1000):\n",
    "    camada_oculta=np.matmul(X,W['oculta'])+b['oculta'] \n",
    "    camada_oculta_ativacao=sigmoid(camada_oculta)\n",
    "\n",
    "    camada_saida=np.matmul(camada_oculta_ativacao,W['saida'])+b['saida']\n",
    "    camada_saida_ativacao=sigmoid(camada_saida)\n",
    "\n",
    "    erro=mean_squared_error(y, camada_saida_ativacao)\n",
    "\n",
    "    #implementacao do backpropagantion\n",
    "    #atualizando os pesos\n",
    "    W['saida']=np.matmul(camada_oculta.T, camada_saida_ativacao)*taxa_aprendizagem*erro\n",
    "    W['oculta']=np.matmul(X.T,camada_oculta_ativacao)*taxa_aprendizagem*erro\n",
    "    #print('Erro:',erro)\n",
    "    #print('Saidas:',camada_saida_ativacao)\n",
    "    "
   ]
  }
 ],
 "metadata": {
  "kernelspec": {
   "display_name": "Python 3",
   "language": "python",
   "name": "python3"
  },
  "language_info": {
   "codemirror_mode": {
    "name": "ipython",
    "version": 3
   },
   "file_extension": ".py",
   "mimetype": "text/x-python",
   "name": "python",
   "nbconvert_exporter": "python",
   "pygments_lexer": "ipython3",
   "version": "3.8.8"
  }
 },
 "nbformat": 4,
 "nbformat_minor": 5
}
